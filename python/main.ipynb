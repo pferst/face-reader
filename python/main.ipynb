{
 "cells": [
  {
   "attachments": {},
   "cell_type": "markdown",
   "metadata": {},
   "source": [
    "Imports"
   ]
  },
  {
   "cell_type": "code",
   "execution_count": 1,
   "metadata": {},
   "outputs": [],
   "source": [
    "import cv2\n",
    "from matplotlib import pyplot as plt\n",
    "import numpy as np\n",
    "import os\n",
    "\n",
    "\n",
    "import load_data as ld\n",
    "import network_model as nt"
   ]
  },
  {
   "attachments": {},
   "cell_type": "markdown",
   "metadata": {},
   "source": [
    "Load data"
   ]
  },
  {
   "cell_type": "code",
   "execution_count": 2,
   "metadata": {},
   "outputs": [
    {
     "name": "stdout",
     "output_type": "stream",
     "text": [
      "['train', 'validation']\n"
     ]
    }
   ],
   "source": [
    "# declare consts of main paths\n",
    "DATABASE = os.path.abspath('../../Database/')\n",
    "DATABASES_VERSIONS = os.listdir(DATABASE)\n",
    "# choose the path to right database version\n",
    "DATABASE_VERSION = 'V1'\n",
    "use_database = os.path.join(DATABASE, list(filter(lambda x: DATABASE_VERSION in x, DATABASES_VERSIONS))[0])\n",
    "datasets = ld.get_classes_names(use_database)\n",
    "print(datasets)\n",
    "# X_train, y_train = load_data(...)"
   ]
  },
  {
   "attachments": {},
   "cell_type": "markdown",
   "metadata": {},
   "source": [
    "If datasets are already divided in to train and validation => run below, if not the next one or no one bc may be not written yet"
   ]
  },
  {
   "cell_type": "code",
   "execution_count": 9,
   "metadata": {},
   "outputs": [],
   "source": [
    "path_train = os.path.join(use_database, datasets[0])\n",
    "path_valid = os.path.join(use_database, datasets[1])\n",
    "\n",
    "classes = ld.get_classes_names(path_train)\n",
    "\n",
    "# train set\n",
    "imgs_train = []\n",
    "labels_train = []\n",
    "# validation set\n",
    "imgs_valid = []\n",
    "labels_valid = []\n",
    "\n",
    "for class_name in classes:\n",
    "    # train images\n",
    "    temp_path = os.path.join(path_train, class_name)\n",
    "    imgs_train.append(ld.load_images(temp_path))\n",
    "    # validation images\n",
    "    temp_path = os.path.join(path_valid, class_name)\n",
    "    imgs_valid.append(ld.load_images(temp_path))"
   ]
  },
  {
   "cell_type": "code",
   "execution_count": null,
   "metadata": {},
   "outputs": [],
   "source": [
    "# cam_access = cv2.VideoCapture(1)\n",
    "\n",
    "# ret, frame = cam_access.read()\n",
    "# plt.imshow(frame)\n",
    "\n",
    "# cam_access.release()"
   ]
  },
  {
   "cell_type": "code",
   "execution_count": null,
   "metadata": {},
   "outputs": [],
   "source": [
    "# model training\n",
    "# Load the training data\n",
    "# X_train, y_train = load_data(...)\n",
    "\n",
    "# # Fit the model\n",
    "# model.fit(X_train, y_train, epochs=10, batch_size=32)\n",
    "\n",
    "# Load the test data\n",
    "# X_test, y_test = load_data(...)\n",
    "\n",
    "# Make predictions\n",
    "# predictions = model.predict(X_test)"
   ]
  },
  {
   "cell_type": "code",
   "execution_count": null,
   "metadata": {},
   "outputs": [],
   "source": [
    "import tensorflow as tf\n",
    "print(tf.__version__)"
   ]
  }
 ],
 "metadata": {
  "kernelspec": {
   "display_name": "inz",
   "language": "python",
   "name": "python3"
  },
  "language_info": {
   "codemirror_mode": {
    "name": "ipython",
    "version": 3
   },
   "file_extension": ".py",
   "mimetype": "text/x-python",
   "name": "python",
   "nbconvert_exporter": "python",
   "pygments_lexer": "ipython3",
   "version": "3.10.8"
  },
  "orig_nbformat": 4,
  "vscode": {
   "interpreter": {
    "hash": "663c79c9021e5ebbf13463b9b3c2be3d8605a304ea48ff741684e427070422b3"
   }
  }
 },
 "nbformat": 4,
 "nbformat_minor": 2
}
