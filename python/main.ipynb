{
 "cells": [
  {
   "attachments": {},
   "cell_type": "markdown",
   "metadata": {},
   "source": [
    "Imports"
   ]
  },
  {
   "cell_type": "code",
   "execution_count": null,
   "metadata": {},
   "outputs": [],
   "source": [
    "import cv2\n",
    "from matplotlib import pyplot as plt\n",
    "import numpy as np\n",
    "from sklearn.utils import class_weight\n",
    "import os\n",
    "\n",
    "\n",
    "import load_data as ld\n",
    "import network_model as nt\n",
    "import utilities as tools"
   ]
  },
  {
   "attachments": {},
   "cell_type": "markdown",
   "metadata": {},
   "source": [
    "Load data"
   ]
  },
  {
   "cell_type": "code",
   "execution_count": null,
   "metadata": {},
   "outputs": [],
   "source": [
    "# declare consts of main paths\n",
    "DATABASE = os.path.abspath('../../Database/')\n",
    "DATABASES_VERSIONS = os.listdir(DATABASE)\n",
    "# choose the path to right database version\n",
    "DATABASE_VERSION = 'V4'\n",
    "use_database = os.path.join(DATABASE, list(filter(lambda x: DATABASE_VERSION in x, DATABASES_VERSIONS))[0])\n",
    "datasets = ld.get_classes_names(use_database)"
   ]
  },
  {
   "attachments": {},
   "cell_type": "markdown",
   "metadata": {},
   "source": [
    "If datasets are already divided in to train and validation => run below, if not the next one or no one bc may be not written yet"
   ]
  },
  {
   "cell_type": "code",
   "execution_count": null,
   "metadata": {},
   "outputs": [],
   "source": [
    "# path_train = os.path.join(use_database, datasets[0])\n",
    "# path_valid = os.path.join(use_database, datasets[1])\n",
    "\n",
    "path_train, path_valid, path_test = tools.get_paths(use_database, datasets)\n",
    "\n",
    "classes = ld.get_classes_names(path_train)\n",
    "\n",
    "# classes numbers\n",
    "classes_numbers = tools.make_labels_dict(classes)\n",
    "\n",
    "# train set\n",
    "imgs_train, labels_train = ld.save_to_arr(classes, path_train, classes_numbers)\n",
    "# validation set\n",
    "imgs_valid, labels_valid = ld.save_to_arr(classes, path_valid, classes_numbers)\n",
    "# test set\n",
    "imgs_test, labels_test = ld.save_to_arr(classes, path_test, classes_numbers)\n",
    "# these functions shuffles data to\n",
    "\n",
    "classes_weights = dict(enumerate(class_weight.compute_class_weight('balanced', classes = np.unique(labels_train), y=labels_train)))"
   ]
  },
  {
   "cell_type": "code",
   "execution_count": null,
   "metadata": {},
   "outputs": [],
   "source": [
    "# img_shape = imgs_train.shape\n",
    "# img_shape = (img_shape[1], img_shape[2], 1)"
   ]
  },
  {
   "attachments": {},
   "cell_type": "markdown",
   "metadata": {},
   "source": [
    "Learn model"
   ]
  },
  {
   "cell_type": "code",
   "execution_count": null,
   "metadata": {},
   "outputs": [],
   "source": [
    "# model training\n",
    "# Load the training data\n",
    "\n",
    "# # Fit the model\n",
    "img_shape = imgs_train.shape\n",
    "model = nt.build_neural_model(nuber_of_classes = len(classes), img_shape = (img_shape[1], img_shape[2], 1))\n",
    "trained_model, history_model = nt.train_model(\n",
    "    model, \n",
    "    imgs_train=imgs_train, labels_train=labels_train,\n",
    "    imgs_val=imgs_valid, labels_val=labels_valid,\n",
    "    epochs_number=50\n",
    ")"
   ]
  },
  {
   "cell_type": "code",
   "execution_count": null,
   "metadata": {},
   "outputs": [],
   "source": [
    "# trained_model = nt.compile_model(trained_model)\n",
    "trained_model_2, history_model_2 = nt.train_model(\n",
    "    trained_model, \n",
    "    imgs_train=imgs_train, labels_train=labels_train, \n",
    "    imgs_val=imgs_valid, labels_val=labels_valid, \n",
    "    epochs_number=15\n",
    ")"
   ]
  },
  {
   "attachments": {},
   "cell_type": "markdown",
   "metadata": {},
   "source": [
    "Serialize model to json"
   ]
  },
  {
   "cell_type": "code",
   "execution_count": null,
   "metadata": {},
   "outputs": [],
   "source": [
    "save2_file_name = \"test_NONE_SURPRISE_optimizer_nadam_batch_256\"\n",
    "\n",
    "ld.serialize_model(trained_model, file_name = save2_file_name, history_model=history_model)"
   ]
  },
  {
   "cell_type": "code",
   "execution_count": null,
   "metadata": {},
   "outputs": [],
   "source": [
    "# save2_file_name = \"test13_optimizer_nadam_batch_128\"\n",
    "# model, history_model = ld.desrialize_model(save2_file_name)\n"
   ]
  },
  {
   "attachments": {},
   "cell_type": "markdown",
   "metadata": {},
   "source": [
    "Show trained model and evaluate"
   ]
  },
  {
   "cell_type": "code",
   "execution_count": null,
   "metadata": {},
   "outputs": [],
   "source": [
    "# save2_file_name_path = \"../../Model/\"+save2_file_name\n",
    "\n",
    "plt.plot(history_model_2['accuracy'])\n",
    "plt.plot(history_model_2['val_accuracy'])\n",
    "plt.title('Model accuracy')\n",
    "plt.ylabel('Accuracy')\n",
    "plt.xlabel('Epoch')\n",
    "\n",
    "plt.legend(['Train', 'Validation'], loc='upper left')\n",
    "# plt.savefig(save2_file_name_path+\"_accuracy.png\")\n",
    "plt.show()\n",
    "\n",
    "\n",
    "plt.plot(history_model_2['loss'])\n",
    "plt.plot(history_model_2['val_loss'])\n",
    "plt.title('Model loss')\n",
    "plt.ylabel('Loss')\n",
    "plt.xlabel('Epoch')\n",
    "\n",
    "plt.legend(['Train', 'Validation'], loc='upper left')\n",
    "# plt.savefig(save2_file_name_path+\"_loss.png\")\n",
    "plt.show()\n",
    "\n",
    "\n",
    "# Make predictions\n",
    "predictions = model.predict(imgs_test)\n",
    "eval = model.evaluate(imgs_test, labels_test)\n",
    "from sklearn.metrics import confusion_matrix, ConfusionMatrixDisplay\n",
    "confusion_matrix(labels_test, predictions.argmax(axis=1))"
   ]
  },
  {
   "attachments": {},
   "cell_type": "markdown",
   "metadata": {},
   "source": [
    "Deserialize model from json"
   ]
  },
  {
   "cell_type": "code",
   "execution_count": null,
   "metadata": {},
   "outputs": [],
   "source": []
  }
 ],
 "metadata": {
  "kernelspec": {
   "display_name": "inz",
   "language": "python",
   "name": "python3"
  },
  "language_info": {
   "codemirror_mode": {
    "name": "ipython",
    "version": 3
   },
   "file_extension": ".py",
   "mimetype": "text/x-python",
   "name": "python",
   "nbconvert_exporter": "python",
   "pygments_lexer": "ipython3",
   "version": "3.10.8"
  },
  "orig_nbformat": 4,
  "vscode": {
   "interpreter": {
    "hash": "663c79c9021e5ebbf13463b9b3c2be3d8605a304ea48ff741684e427070422b3"
   }
  }
 },
 "nbformat": 4,
 "nbformat_minor": 2
}
