{
 "cells": [
  {
   "attachments": {},
   "cell_type": "markdown",
   "metadata": {},
   "source": [
    "Imports"
   ]
  },
  {
   "cell_type": "code",
   "execution_count": 1,
   "metadata": {},
   "outputs": [],
   "source": [
    "import cv2\n",
    "from matplotlib import pyplot as plt\n",
    "import numpy as np\n",
    "from sklearn.utils import class_weight\n",
    "import os\n",
    "\n",
    "\n",
    "import load_data as ld\n",
    "import network_model as nt\n",
    "import utilities as tools"
   ]
  },
  {
   "attachments": {},
   "cell_type": "markdown",
   "metadata": {},
   "source": [
    "Load data"
   ]
  },
  {
   "cell_type": "code",
   "execution_count": 2,
   "metadata": {},
   "outputs": [],
   "source": [
    "# declare consts of main paths\n",
    "DATABASE = os.path.abspath('../../Database/')\n",
    "DATABASES_VERSIONS = os.listdir(DATABASE)\n",
    "# choose the path to right database version\n",
    "DATABASE_VERSION = 'V3'\n",
    "use_database = os.path.join(DATABASE, list(filter(lambda x: DATABASE_VERSION in x, DATABASES_VERSIONS))[0])\n",
    "datasets = ld.get_classes_names(use_database)"
   ]
  },
  {
   "attachments": {},
   "cell_type": "markdown",
   "metadata": {},
   "source": [
    "If datasets are already divided in to train and validation => run below, if not the next one or no one bc may be not written yet"
   ]
  },
  {
   "cell_type": "code",
   "execution_count": 3,
   "metadata": {},
   "outputs": [],
   "source": [
    "# path_train = os.path.join(use_database, datasets[0])\n",
    "# path_valid = os.path.join(use_database, datasets[1])\n",
    "\n",
    "path_train, path_valid, path_test = tools.get_paths(use_database, datasets)\n",
    "\n",
    "classes = ld.get_classes_names(path_train)\n",
    "\n",
    "# classes numbers\n",
    "classes_numbers = tools.make_labels_dict(classes)\n",
    "\n",
    "# train set\n",
    "imgs_train, labels_train = ld.save_to_arr(classes, path_train, classes_numbers)\n",
    "# validation set\n",
    "imgs_valid, labels_valid = ld.save_to_arr(classes, path_valid, classes_numbers)\n",
    "# test set\n",
    "imgs_test, labels_test = ld.save_to_arr(classes, path_test, classes_numbers)\n",
    "# these functions shuffles data to\n",
    "\n",
    "classes_weights = dict(enumerate(class_weight.compute_class_weight('balanced', classes = np.unique(labels_train), y=labels_train)))"
   ]
  },
  {
   "cell_type": "code",
   "execution_count": null,
   "metadata": {},
   "outputs": [],
   "source": [
    "img_shape = imgs_train.shape\n",
    "img_shape = (img_shape[1], img_shape[2], 1)"
   ]
  },
  {
   "attachments": {},
   "cell_type": "markdown",
   "metadata": {},
   "source": [
    "Learn model"
   ]
  },
  {
   "cell_type": "code",
   "execution_count": 4,
   "metadata": {},
   "outputs": [
    {
     "name": "stdout",
     "output_type": "stream",
     "text": [
      "(48, 48, 1)\n",
      "Epoch 1/100\n",
      "224/224 [==============================] - 173s 755ms/step - loss: 1.8700 - accuracy: 0.2188 - val_loss: 1.9319 - val_accuracy: 0.1696 - lr: 0.0010\n",
      "Epoch 2/100\n",
      "224/224 [==============================] - 168s 751ms/step - loss: 1.8003 - accuracy: 0.2660 - val_loss: 1.9237 - val_accuracy: 0.1902 - lr: 0.0010\n",
      "Epoch 3/100\n",
      "224/224 [==============================] - 172s 770ms/step - loss: 1.7473 - accuracy: 0.3014 - val_loss: 1.7811 - val_accuracy: 0.3162 - lr: 0.0010\n",
      "Epoch 4/100\n",
      "224/224 [==============================] - 170s 760ms/step - loss: 1.7153 - accuracy: 0.3239 - val_loss: 1.8580 - val_accuracy: 0.2528 - lr: 0.0010\n",
      "Epoch 5/100\n",
      "224/224 [==============================] - 162s 721ms/step - loss: 1.6921 - accuracy: 0.3251 - val_loss: 1.6806 - val_accuracy: 0.3547 - lr: 0.0010\n",
      "Epoch 6/100\n",
      "224/224 [==============================] - 160s 716ms/step - loss: 1.6749 - accuracy: 0.3327 - val_loss: 1.6482 - val_accuracy: 0.3486 - lr: 0.0010\n",
      "Epoch 7/100\n",
      "224/224 [==============================] - 156s 698ms/step - loss: 1.6440 - accuracy: 0.3460 - val_loss: 1.5594 - val_accuracy: 0.3972 - lr: 0.0010\n",
      "Epoch 8/100\n",
      "224/224 [==============================] - 157s 701ms/step - loss: 1.6488 - accuracy: 0.3538 - val_loss: 1.8192 - val_accuracy: 0.3366 - lr: 0.0010\n",
      "Epoch 9/100\n",
      "224/224 [==============================] - 156s 697ms/step - loss: 1.6114 - accuracy: 0.3668 - val_loss: 1.5195 - val_accuracy: 0.4047 - lr: 0.0010\n",
      "Epoch 10/100\n",
      "224/224 [==============================] - 157s 703ms/step - loss: 1.6112 - accuracy: 0.3715 - val_loss: 1.5680 - val_accuracy: 0.3905 - lr: 0.0010\n",
      "Epoch 11/100\n",
      "224/224 [==============================] - 157s 699ms/step - loss: 1.5756 - accuracy: 0.3841 - val_loss: 1.5392 - val_accuracy: 0.4034 - lr: 0.0010\n",
      "Epoch 12/100\n",
      "224/224 [==============================] - 157s 701ms/step - loss: 1.5782 - accuracy: 0.3725 - val_loss: 1.6127 - val_accuracy: 0.3561 - lr: 0.0010\n",
      "Epoch 13/100\n",
      "224/224 [==============================] - 156s 698ms/step - loss: 1.5548 - accuracy: 0.3956 - val_loss: 1.5483 - val_accuracy: 0.4279 - lr: 0.0010\n",
      "Epoch 14/100\n",
      "224/224 [==============================] - 156s 696ms/step - loss: 1.5370 - accuracy: 0.4025 - val_loss: 1.4700 - val_accuracy: 0.4363 - lr: 0.0010\n",
      "Epoch 15/100\n",
      "224/224 [==============================] - 156s 695ms/step - loss: 1.5352 - accuracy: 0.4012 - val_loss: 1.5056 - val_accuracy: 0.4095 - lr: 0.0010\n",
      "Epoch 16/100\n",
      "224/224 [==============================] - 156s 697ms/step - loss: 1.5258 - accuracy: 0.3975 - val_loss: 1.4382 - val_accuracy: 0.4352 - lr: 0.0010\n",
      "Epoch 17/100\n",
      "224/224 [==============================] - 155s 693ms/step - loss: 1.5067 - accuracy: 0.4073 - val_loss: 1.5857 - val_accuracy: 0.3835 - lr: 0.0010\n",
      "Epoch 18/100\n",
      "224/224 [==============================] - 156s 697ms/step - loss: 1.5164 - accuracy: 0.4066 - val_loss: 1.4136 - val_accuracy: 0.4520 - lr: 0.0010\n",
      "Epoch 19/100\n",
      "224/224 [==============================] - 156s 698ms/step - loss: 1.4860 - accuracy: 0.4254 - val_loss: 1.5089 - val_accuracy: 0.4006 - lr: 0.0010\n",
      "Epoch 20/100\n",
      "224/224 [==============================] - 156s 698ms/step - loss: 1.4762 - accuracy: 0.4214 - val_loss: 1.4310 - val_accuracy: 0.4612 - lr: 0.0010\n",
      "Epoch 21/100\n",
      "224/224 [==============================] - 156s 695ms/step - loss: 1.4715 - accuracy: 0.4180 - val_loss: 1.4462 - val_accuracy: 0.4363 - lr: 0.0010\n",
      "Epoch 22/100\n",
      "224/224 [==============================] - 157s 703ms/step - loss: 1.4632 - accuracy: 0.4288 - val_loss: 1.5286 - val_accuracy: 0.4251 - lr: 0.0010\n",
      "Epoch 23/100\n",
      "224/224 [==============================] - 163s 726ms/step - loss: 1.4442 - accuracy: 0.4441 - val_loss: 1.4104 - val_accuracy: 0.4536 - lr: 0.0010\n",
      "Epoch 24/100\n",
      "224/224 [==============================] - 159s 712ms/step - loss: 1.4457 - accuracy: 0.4397 - val_loss: 1.3768 - val_accuracy: 0.4771 - lr: 0.0010\n",
      "Epoch 25/100\n",
      "224/224 [==============================] - 160s 712ms/step - loss: 1.4432 - accuracy: 0.4375 - val_loss: 1.5090 - val_accuracy: 0.4120 - lr: 0.0010\n",
      "Epoch 26/100\n",
      "224/224 [==============================] - 165s 739ms/step - loss: 1.4392 - accuracy: 0.4335 - val_loss: 1.3882 - val_accuracy: 0.4754 - lr: 0.0010\n",
      "Epoch 27/100\n",
      "224/224 [==============================] - 182s 813ms/step - loss: 1.4411 - accuracy: 0.4385 - val_loss: 1.4925 - val_accuracy: 0.4436 - lr: 0.0010\n",
      "Epoch 28/100\n",
      "224/224 [==============================] - 166s 743ms/step - loss: 1.4392 - accuracy: 0.4426 - val_loss: 1.3398 - val_accuracy: 0.4824 - lr: 0.0010\n",
      "Epoch 29/100\n",
      "224/224 [==============================] - 158s 706ms/step - loss: 1.4094 - accuracy: 0.4439 - val_loss: 1.3470 - val_accuracy: 0.4818 - lr: 0.0010\n",
      "Epoch 30/100\n",
      "224/224 [==============================] - 157s 699ms/step - loss: 1.3995 - accuracy: 0.4551 - val_loss: 1.3559 - val_accuracy: 0.4757 - lr: 0.0010\n",
      "Epoch 31/100\n",
      "224/224 [==============================] - 157s 699ms/step - loss: 1.4056 - accuracy: 0.4452 - val_loss: 1.4334 - val_accuracy: 0.4617 - lr: 0.0010\n",
      "Epoch 32/100\n",
      "224/224 [==============================] - 158s 706ms/step - loss: 1.4063 - accuracy: 0.4491 - val_loss: 1.3675 - val_accuracy: 0.4654 - lr: 0.0010\n",
      "Epoch 33/100\n",
      "224/224 [==============================] - 157s 702ms/step - loss: 1.3858 - accuracy: 0.4469 - val_loss: 1.3043 - val_accuracy: 0.4902 - lr: 0.0010\n",
      "Epoch 34/100\n",
      "224/224 [==============================] - 158s 704ms/step - loss: 1.3894 - accuracy: 0.4534 - val_loss: 1.4430 - val_accuracy: 0.4439 - lr: 0.0010\n",
      "Epoch 35/100\n",
      "224/224 [==============================] - 157s 701ms/step - loss: 1.3732 - accuracy: 0.4516 - val_loss: 1.3511 - val_accuracy: 0.4802 - lr: 0.0010\n",
      "Epoch 36/100\n",
      "224/224 [==============================] - 157s 700ms/step - loss: 1.3874 - accuracy: 0.4527 - val_loss: 1.5529 - val_accuracy: 0.4008 - lr: 0.0010\n",
      "Epoch 37/100\n",
      "224/224 [==============================] - 156s 694ms/step - loss: 1.3989 - accuracy: 0.4430 - val_loss: 1.3451 - val_accuracy: 0.4877 - lr: 0.0010\n",
      "Epoch 38/100\n",
      "224/224 [==============================] - ETA: 0s - loss: 1.3796 - accuracy: 0.4559\n",
      "Epoch 38: ReduceLROnPlateau reducing learning rate to 0.0005000000237487257.\n",
      "224/224 [==============================] - 156s 696ms/step - loss: 1.3796 - accuracy: 0.4559 - val_loss: 1.3313 - val_accuracy: 0.4877 - lr: 0.0010\n",
      "Epoch 39/100\n",
      "224/224 [==============================] - 157s 700ms/step - loss: 1.3526 - accuracy: 0.4678 - val_loss: 1.3175 - val_accuracy: 0.4883 - lr: 5.0000e-04\n",
      "Epoch 40/100\n",
      "224/224 [==============================] - 157s 699ms/step - loss: 1.3277 - accuracy: 0.4742 - val_loss: 1.3345 - val_accuracy: 0.4855 - lr: 5.0000e-04\n",
      "Epoch 41/100\n",
      "224/224 [==============================] - 158s 706ms/step - loss: 1.3361 - accuracy: 0.4706 - val_loss: 1.4537 - val_accuracy: 0.4372 - lr: 5.0000e-04\n",
      "Epoch 42/100\n",
      "224/224 [==============================] - 157s 699ms/step - loss: 1.3175 - accuracy: 0.4708 - val_loss: 1.3081 - val_accuracy: 0.4872 - lr: 5.0000e-04\n",
      "Epoch 43/100\n",
      "224/224 [==============================] - ETA: 0s - loss: 1.3192 - accuracy: 0.4722\n",
      "Epoch 43: ReduceLROnPlateau reducing learning rate to 0.0002500000118743628.\n",
      "224/224 [==============================] - 157s 701ms/step - loss: 1.3192 - accuracy: 0.4722 - val_loss: 1.3178 - val_accuracy: 0.4791 - lr: 5.0000e-04\n",
      "Epoch 44/100\n",
      "224/224 [==============================] - 157s 703ms/step - loss: 1.2933 - accuracy: 0.4763 - val_loss: 1.2888 - val_accuracy: 0.4916 - lr: 2.5000e-04\n",
      "Epoch 45/100\n",
      "224/224 [==============================] - 156s 698ms/step - loss: 1.2926 - accuracy: 0.4797 - val_loss: 1.2930 - val_accuracy: 0.4927 - lr: 2.5000e-04\n",
      "Epoch 46/100\n",
      "224/224 [==============================] - 157s 699ms/step - loss: 1.2808 - accuracy: 0.4795 - val_loss: 1.2934 - val_accuracy: 0.4955 - lr: 2.5000e-04\n",
      "Epoch 47/100\n",
      "224/224 [==============================] - 158s 703ms/step - loss: 1.2763 - accuracy: 0.4854 - val_loss: 1.2938 - val_accuracy: 0.4983 - lr: 2.5000e-04\n",
      "Epoch 48/100\n",
      "224/224 [==============================] - 156s 698ms/step - loss: 1.2757 - accuracy: 0.4824 - val_loss: 1.2678 - val_accuracy: 0.5120 - lr: 2.5000e-04\n",
      "Epoch 49/100\n",
      "224/224 [==============================] - 157s 701ms/step - loss: 1.2591 - accuracy: 0.4876 - val_loss: 1.2916 - val_accuracy: 0.5034 - lr: 2.5000e-04\n",
      "Epoch 50/100\n",
      "224/224 [==============================] - 157s 699ms/step - loss: 1.2648 - accuracy: 0.4895 - val_loss: 1.2991 - val_accuracy: 0.5034 - lr: 2.5000e-04\n",
      "Epoch 51/100\n",
      "224/224 [==============================] - 157s 699ms/step - loss: 1.2854 - accuracy: 0.4853 - val_loss: 1.2703 - val_accuracy: 0.5196 - lr: 2.5000e-04\n",
      "Epoch 52/100\n",
      "224/224 [==============================] - 158s 704ms/step - loss: 1.2615 - accuracy: 0.4864 - val_loss: 1.2798 - val_accuracy: 0.5034 - lr: 2.5000e-04\n",
      "Epoch 53/100\n",
      "224/224 [==============================] - 156s 695ms/step - loss: 1.2548 - accuracy: 0.4925 - val_loss: 1.2806 - val_accuracy: 0.5103 - lr: 2.5000e-04\n",
      "Epoch 54/100\n",
      "224/224 [==============================] - ETA: 0s - loss: 1.2443 - accuracy: 0.4955"
     ]
    }
   ],
   "source": [
    "# model training\n",
    "# Load the training data\n",
    "\n",
    "# # Fit the model\n",
    "img_shape = imgs_train.shape\n",
    "model = nt.build_neural_model(nuber_of_classes = len(classes), img_shape = (img_shape[1], img_shape[2], 1))\n",
    "trained_model, history_model = nt.train_model(\n",
    "    model, \n",
    "    imgs_train=imgs_train, labels_train=labels_train,\n",
    "    imgs_val=imgs_valid, labels_val=labels_valid,\n",
    "    epochs_number=100,\n",
    "    classes_weights={}\n",
    ")"
   ]
  },
  {
   "cell_type": "code",
   "execution_count": null,
   "metadata": {},
   "outputs": [],
   "source": [
    "# trained_model = nt.compile_model(trained_model)\n",
    "# trained_model, history_model = nt.train_model(\n",
    "#     model, \n",
    "#     imgs_train=imgs_train, labels_train=labels_train, \n",
    "#     imgs_val=imgs_valid, labels_val=labels_valid, \n",
    "#     epochs_number=50\n",
    "# )"
   ]
  },
  {
   "attachments": {},
   "cell_type": "markdown",
   "metadata": {},
   "source": [
    "Serialize model to json"
   ]
  },
  {
   "cell_type": "code",
   "execution_count": null,
   "metadata": {},
   "outputs": [],
   "source": [
    "save2_file_name = \"test17_optimizer_nadam_batch_128_weighted_classes\"\n",
    "\n",
    "ld.serialize_model(trained_model, file_name = save2_file_name, history_model=history_model)"
   ]
  },
  {
   "cell_type": "code",
   "execution_count": null,
   "metadata": {},
   "outputs": [],
   "source": [
    "# save2_file_name = \"test13_optimizer_nadam_batch_128\"\n",
    "# model, history_model = ld.desrialize_model(save2_file_name)\n"
   ]
  },
  {
   "attachments": {},
   "cell_type": "markdown",
   "metadata": {},
   "source": [
    "Show trained model and evaluate"
   ]
  },
  {
   "cell_type": "code",
   "execution_count": null,
   "metadata": {},
   "outputs": [],
   "source": [
    "save2_file_name_path = \"../../Model/\"+save2_file_name\n",
    "\n",
    "plt.plot(history_model['accuracy'])\n",
    "plt.plot(history_model['val_accuracy'])\n",
    "plt.title('Model accuracy')\n",
    "plt.ylabel('Accuracy')\n",
    "plt.xlabel('Epoch')\n",
    "\n",
    "plt.legend(['Train', 'Validation'], loc='upper left')\n",
    "plt.savefig(save2_file_name_path+\"_accuracy.png\")\n",
    "plt.show()\n",
    "\n",
    "\n",
    "plt.plot(history_model['loss'])\n",
    "plt.plot(history_model['val_loss'])\n",
    "plt.title('Model loss')\n",
    "plt.ylabel('Loss')\n",
    "plt.xlabel('Epoch')\n",
    "\n",
    "plt.legend(['Train', 'Validation'], loc='upper left')\n",
    "plt.savefig(save2_file_name_path+\"_loss.png\")\n",
    "plt.show()\n",
    "\n",
    "\n",
    "# Make predictions\n",
    "predictions = model.predict(imgs_test)\n",
    "eval = model.evaluate(imgs_test, labels_test)\n",
    "from sklearn.metrics import confusion_matrix, ConfusionMatrixDisplay\n",
    "confusion_matrix(labels_test.argmax(axis=1), predictions.argmax(axis=1))"
   ]
  },
  {
   "attachments": {},
   "cell_type": "markdown",
   "metadata": {},
   "source": [
    "Deserialize model from json"
   ]
  },
  {
   "cell_type": "code",
   "execution_count": null,
   "metadata": {},
   "outputs": [],
   "source": []
  }
 ],
 "metadata": {
  "kernelspec": {
   "display_name": "inz",
   "language": "python",
   "name": "python3"
  },
  "language_info": {
   "codemirror_mode": {
    "name": "ipython",
    "version": 3
   },
   "file_extension": ".py",
   "mimetype": "text/x-python",
   "name": "python",
   "nbconvert_exporter": "python",
   "pygments_lexer": "ipython3",
   "version": "3.10.8"
  },
  "orig_nbformat": 4,
  "vscode": {
   "interpreter": {
    "hash": "663c79c9021e5ebbf13463b9b3c2be3d8605a304ea48ff741684e427070422b3"
   }
  }
 },
 "nbformat": 4,
 "nbformat_minor": 2
}
